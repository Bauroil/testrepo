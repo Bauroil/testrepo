{
 "cells": [
  {
   "cell_type": "markdown",
   "id": "b49d2981-311e-4131-9cd8-85ef4e7851aa",
   "metadata": {},
   "source": [
    "# H1 My Jupyter Notebook on IBM Watson Studio"
   ]
  },
  {
   "cell_type": "markdown",
   "id": "8b756eb3-6a7e-45f0-befe-0641dd579c2e",
   "metadata": {},
   "source": [
    "# bold **Bauyrzhan**"
   ]
  },
  {
   "cell_type": "markdown",
   "id": "5ff74d36-e42f-474a-a679-791813da647a",
   "metadata": {},
   "source": [
    "# aka italics *I'm interested in data science because it's very helpfull for my current work in engineering*"
   ]
  },
  {
   "cell_type": "markdown",
   "id": "3f29f6c8-0352-4811-b5e5-f7ea26afc871",
   "metadata": {},
   "source": [
    "### H3 It is simple mathematical expression"
   ]
  },
  {
   "cell_type": "code",
   "execution_count": 5,
   "id": "15d7e1fc-1996-4cea-b0d5-9100c2c8feae",
   "metadata": {},
   "outputs": [
    {
     "data": {
      "text/plain": [
       "3.0"
      ]
     },
     "execution_count": 5,
     "metadata": {},
     "output_type": "execute_result"
    }
   ],
   "source": [
    "2+2/2"
   ]
  },
  {
   "cell_type": "markdown",
   "id": "5a394650-f63b-46c0-ac17-d3619b2b7663",
   "metadata": {},
   "source": [
    "<ul>\n",
    "<li>Deep learning</li>\n",
    "<li>Machine learning</li>\n",
    "<li>Neural Network</li>\n",
    "</ul>\n",
    "<ol>\n",
    "<li>Scala</li>\n",
    "<li>Julia</li>\n",
    "<li>R</li>\n",
    "<li>Python</li>\n",
    "</ol>\n",
    "<img src=\"https://upload.wikimedia.org/wikipedia/commons/thumb/3/3e/Kazakhstan_%28orthographic_projection%29.svg/250px-Kazakhstan_%28orthographic_projection%29.svg.png\" alt=\"kazakhstan_on_earth\" />\n",
    "<a href=\"https://en.wikipedia.org/wiki/Kazakhstan\">Welcome to Kazakhstan</a> "
   ]
  }
 ],
 "metadata": {
  "kernelspec": {
   "display_name": "Python",
   "language": "python",
   "name": "conda-env-python-py"
  },
  "language_info": {
   "codemirror_mode": {
    "name": "ipython",
    "version": 3
   },
   "file_extension": ".py",
   "mimetype": "text/x-python",
   "name": "python",
   "nbconvert_exporter": "python",
   "pygments_lexer": "ipython3",
   "version": "3.7.12"
  }
 },
 "nbformat": 4,
 "nbformat_minor": 5
}
